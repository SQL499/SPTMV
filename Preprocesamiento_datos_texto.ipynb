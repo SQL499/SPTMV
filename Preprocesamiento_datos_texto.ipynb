{
 "cells": [
  {
   "cell_type": "markdown",
   "id": "a50edc74",
   "metadata": {},
   "source": [
    "## Preprocesamiento de los Datos\n",
    "### Dataset de texto (tabular)"
   ]
  },
  {
   "cell_type": "code",
   "execution_count": 1,
   "id": "6fbf7948",
   "metadata": {},
   "outputs": [
    {
     "name": "stdout",
     "output_type": "stream",
     "text": [
      "Dimensiones iniciales: (10000, 10)\n"
     ]
    },
    {
     "data": {
      "text/html": [
       "<div>\n",
       "<style scoped>\n",
       "    .dataframe tbody tr th:only-of-type {\n",
       "        vertical-align: middle;\n",
       "    }\n",
       "\n",
       "    .dataframe tbody tr th {\n",
       "        vertical-align: top;\n",
       "    }\n",
       "\n",
       "    .dataframe thead th {\n",
       "        text-align: right;\n",
       "    }\n",
       "</style>\n",
       "<table border=\"1\" class=\"dataframe\">\n",
       "  <thead>\n",
       "    <tr style=\"text-align: right;\">\n",
       "      <th></th>\n",
       "      <th>AnimalName</th>\n",
       "      <th>Breed</th>\n",
       "      <th>Age</th>\n",
       "      <th>Weight_kg</th>\n",
       "      <th>MedicalHistory</th>\n",
       "      <th>Symptom_1</th>\n",
       "      <th>Symptom_2</th>\n",
       "      <th>Symptom_3</th>\n",
       "      <th>Symptom_4</th>\n",
       "      <th>Symptom_5</th>\n",
       "    </tr>\n",
       "  </thead>\n",
       "  <tbody>\n",
       "    <tr>\n",
       "      <th>0</th>\n",
       "      <td>Dog</td>\n",
       "      <td>Rottweiler</td>\n",
       "      <td>6.0</td>\n",
       "      <td>32.1</td>\n",
       "      <td>Chronic illness</td>\n",
       "      <td>Anorexia</td>\n",
       "      <td>Hydrophobia</td>\n",
       "      <td>drooping ears</td>\n",
       "      <td>Diarrhea</td>\n",
       "      <td>Shyness or aggression</td>\n",
       "    </tr>\n",
       "    <tr>\n",
       "      <th>1</th>\n",
       "      <td>Dog</td>\n",
       "      <td>Bulldog</td>\n",
       "      <td>9.9</td>\n",
       "      <td>18.5</td>\n",
       "      <td>Vaccinated</td>\n",
       "      <td>Lethargy</td>\n",
       "      <td>Weakness</td>\n",
       "      <td>Horny growth</td>\n",
       "      <td>Fever</td>\n",
       "      <td>Coughing</td>\n",
       "    </tr>\n",
       "    <tr>\n",
       "      <th>2</th>\n",
       "      <td>Dog</td>\n",
       "      <td>Beagle</td>\n",
       "      <td>13.9</td>\n",
       "      <td>18.9</td>\n",
       "      <td>Parasite history</td>\n",
       "      <td>Pain</td>\n",
       "      <td>Weight loss</td>\n",
       "      <td>Weight loss</td>\n",
       "      <td>Sneezing</td>\n",
       "      <td>Drop on egg production</td>\n",
       "    </tr>\n",
       "    <tr>\n",
       "      <th>3</th>\n",
       "      <td>cat</td>\n",
       "      <td>Scottish Fold</td>\n",
       "      <td>5.8</td>\n",
       "      <td>6.3</td>\n",
       "      <td>Recent surgery</td>\n",
       "      <td>Vomiting</td>\n",
       "      <td>Pain</td>\n",
       "      <td>Edema in lower jaw</td>\n",
       "      <td>Pain</td>\n",
       "      <td>Weakness</td>\n",
       "    </tr>\n",
       "    <tr>\n",
       "      <th>4</th>\n",
       "      <td>cat</td>\n",
       "      <td>Persian</td>\n",
       "      <td>11.2</td>\n",
       "      <td>4.9</td>\n",
       "      <td>Recent surgery</td>\n",
       "      <td>Severe</td>\n",
       "      <td>Weight loss</td>\n",
       "      <td>Egg production stops</td>\n",
       "      <td>Weakness</td>\n",
       "      <td>Poor Body condition</td>\n",
       "    </tr>\n",
       "  </tbody>\n",
       "</table>\n",
       "</div>"
      ],
      "text/plain": [
       "  AnimalName          Breed   Age  Weight_kg    MedicalHistory Symptom_1  \\\n",
       "0        Dog     Rottweiler   6.0       32.1   Chronic illness  Anorexia   \n",
       "1        Dog        Bulldog   9.9       18.5        Vaccinated  Lethargy   \n",
       "2        Dog         Beagle  13.9       18.9  Parasite history      Pain   \n",
       "3        cat  Scottish Fold   5.8        6.3    Recent surgery  Vomiting   \n",
       "4        cat        Persian  11.2        4.9    Recent surgery    Severe   \n",
       "\n",
       "     Symptom_2             Symptom_3 Symptom_4               Symptom_5  \n",
       "0  Hydrophobia         drooping ears  Diarrhea   Shyness or aggression  \n",
       "1     Weakness          Horny growth     Fever                Coughing  \n",
       "2  Weight loss           Weight loss  Sneezing  Drop on egg production  \n",
       "3         Pain    Edema in lower jaw      Pain                Weakness  \n",
       "4  Weight loss  Egg production stops  Weakness     Poor Body condition  "
      ]
     },
     "execution_count": 1,
     "metadata": {},
     "output_type": "execute_result"
    }
   ],
   "source": [
    "import pandas as pd\n",
    "import numpy as np\n",
    "\n",
    "# Cargar dataset\n",
    "df = pd.read_csv(\"veterinary_clinical_dataset.csv\")\n",
    "print(\"Dimensiones iniciales:\", df.shape)\n",
    "df.head()"
   ]
  },
  {
   "cell_type": "markdown",
   "id": "37803143",
   "metadata": {},
   "source": [
    "### Eliminación de duplicados"
   ]
  },
  {
   "cell_type": "code",
   "execution_count": 2,
   "id": "ebc4430e",
   "metadata": {},
   "outputs": [
    {
     "name": "stdout",
     "output_type": "stream",
     "text": [
      "Duplicados antes: 20\n",
      "Dimensiones después de eliminar duplicados: (9980, 10)\n"
     ]
    }
   ],
   "source": [
    "print(\"Duplicados antes:\", df.duplicated().sum())\n",
    "df = df.drop_duplicates()\n",
    "print(\"Dimensiones después de eliminar duplicados:\", df.shape)"
   ]
  },
  {
   "cell_type": "markdown",
   "id": "edb87c21",
   "metadata": {},
   "source": [
    "### Normalización de texto en columnas categóricas\n",
    "- Convertimos todo a minúsculas y eliminamos espacios extras."
   ]
  },
  {
   "cell_type": "code",
   "execution_count": 3,
   "id": "807c965b",
   "metadata": {},
   "outputs": [
    {
     "data": {
      "text/plain": [
       "AnimalName          2\n",
       "Breed              18\n",
       "MedicalHistory     11\n",
       "Symptom_1         772\n",
       "Symptom_2         773\n",
       "Symptom_3         788\n",
       "Symptom_4         779\n",
       "Symptom_5         768\n",
       "dtype: int64"
      ]
     },
     "execution_count": 3,
     "metadata": {},
     "output_type": "execute_result"
    }
   ],
   "source": [
    "# Normalizar texto en todas las columnas categóricas\n",
    "categorical_cols = df.select_dtypes(include=[\"object\"]).columns\n",
    "for col in categorical_cols:\n",
    "    df[col] = df[col].str.strip().str.lower()\n",
    "\n",
    "df[categorical_cols].nunique()"
   ]
  },
  {
   "cell_type": "markdown",
   "id": "4e6ea13e",
   "metadata": {},
   "source": [
    "### Validación de rangos y outliers en variables numéricas"
   ]
  },
  {
   "cell_type": "code",
   "execution_count": 4,
   "id": "434aca0a",
   "metadata": {},
   "outputs": [
    {
     "data": {
      "image/png": "[encoded data removed]",
      "text/plain": [
       "<Figure size 1200x500 with 2 Axes>"
      ]
     },
     "metadata": {},
     "output_type": "display_data"
    },
    {
     "name": "stdout",
     "output_type": "stream",
     "text": [
      "               Age    Weight_kg\n",
      "count  9980.000000  9980.000000\n",
      "mean      8.437555    14.904699\n",
      "std       4.636439    12.631109\n",
      "min       0.500000     2.500000\n",
      "25%       4.800000     5.300000\n",
      "50%       8.400000     7.300000\n",
      "75%      12.000000    25.600000\n",
      "max      18.000000    45.000000\n"
     ]
    }
   ],
   "source": [
    "import seaborn as sns\n",
    "import matplotlib.pyplot as plt\n",
    "\n",
    "fig, axes = plt.subplots(1, 2, figsize=(12,5))\n",
    "sns.boxplot(x=df['Age'], ax=axes[0])\n",
    "axes[0].set_title('Edad (años)')\n",
    "\n",
    "sns.boxplot(x=df['Weight_kg'], ax=axes[1])\n",
    "axes[1].set_title('Peso (kg)')\n",
    "plt.show()\n",
    "\n",
    "print(df[['Age','Weight_kg']].describe())"
   ]
  },
  {
   "cell_type": "markdown",
   "id": "3512e31e",
   "metadata": {},
   "source": [
    "### Análisis exploratorio de síntomas\n",
    "Verificamos la frecuencia de aparición de síntomas para entender la distribución clínica."
   ]
  },
  {
   "cell_type": "code",
   "execution_count": 5,
   "id": "077dbbed",
   "metadata": {},
   "outputs": [
    {
     "name": "stdout",
     "output_type": "stream",
     "text": [
      "Cantidad de síntomas únicos: 869\n",
      "Top 20 síntomas más frecuentes:\n",
      "fever                      3605\n",
      "weight loss                3140\n",
      "diarrhea                   3030\n",
      "coughing                   2712\n",
      "pain                       2698\n",
      "vomiting                   2626\n",
      "lethargy                   2601\n",
      "weakness                   2581\n",
      "anorexia                   2440\n",
      "sneezing                   2431\n",
      "loss of appetite            571\n",
      "pains                       534\n",
      "depression                  478\n",
      "death                       400\n",
      "nasal discharge             348\n",
      "lameness                    258\n",
      "swelling                    216\n",
      "difficulty in breathing     197\n",
      "dehydration                 176\n",
      "wasting                     162\n",
      "Name: count, dtype: int64\n"
     ]
    }
   ],
   "source": [
    "# Unificar todos los síntomas en una sola serie para análisis\n",
    "symptoms = pd.concat([df['Symptom_1'], df['Symptom_2'], df['Symptom_3'], \n",
    "                      df['Symptom_4'], df['Symptom_5']])\n",
    "symptoms = symptoms.str.strip().str.lower()\n",
    "print(\"Cantidad de síntomas únicos:\", symptoms.nunique())\n",
    "print(\"Top 20 síntomas más frecuentes:\")\n",
    "print(symptoms.value_counts().head(20))"
   ]
  },
  {
   "cell_type": "markdown",
   "id": "8e575f01",
   "metadata": {},
   "source": [
    "### Guardado de dataset limpio\n",
    "Exportamos los datos preprocesados para usar en las siguientes fases del proyecto (feature engineering y modelado).\n"
   ]
  },
  {
   "cell_type": "code",
   "execution_count": 6,
   "id": "80eec8ea",
   "metadata": {},
   "outputs": [
    {
     "name": "stdout",
     "output_type": "stream",
     "text": [
      "Archivo guardado: veterinary_clinical_dataset_clean.csv\n"
     ]
    }
   ],
   "source": [
    "df.to_csv(\"veterinary_clinical_dataset_clean.csv\", index=False)\n",
    "print(\"Archivo guardado: veterinary_clinical_dataset_clean.csv\")"
   ]
  }
 ],
 "metadata": {
  "kernelspec": {
   "display_name": "Python 3",
   "language": "python",
   "name": "python3"
  },
  "language_info": {
   "codemirror_mode": {
    "name": "ipython",
    "version": 3
   },
   "file_extension": ".py",
   "mimetype": "text/x-python",
   "name": "python",
   "nbconvert_exporter": "python",
   "pygments_lexer": "ipython3",
   "version": "3.12.1"
  }
 },
 "nbformat": 4,
 "nbformat_minor": 5
}
